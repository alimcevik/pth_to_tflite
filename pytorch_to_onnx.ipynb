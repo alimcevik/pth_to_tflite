{
  "cells": [
    {
      "cell_type": "markdown",
      "metadata": {
        "id": "MswW7iMiO-qf"
      },
      "source": [
        "# PTH to ONNX"
      ]
    },
    {
      "cell_type": "code",
      "execution_count": null,
      "metadata": {
        "id": "djEbosDlGsKp"
      },
      "outputs": [],
      "source": [
        "from google.colab import drive\n",
        "drive.mount('/content/drive')"
      ]
    },
    {
      "cell_type": "code",
      "execution_count": null,
      "metadata": {
        "id": "ws_9zBbFHTt2"
      },
      "outputs": [],
      "source": [
        "from torch.autograd import Variable\n",
        "import torch.onnx\n",
        "import torchvision\n",
        "import torch\n",
        "import torchvision.models as models"
      ]
    },
    {
      "cell_type": "code",
      "execution_count": null,
      "metadata": {
        "id": "Nb20KEsWHdH9"
      },
      "outputs": [],
      "source": [
        "#dummy_input = Variable(torch.randn(1, 3, 256, 256))"
      ]
    },
    {
      "cell_type": "code",
      "execution_count": null,
      "metadata": {
        "id": "qjIffm8bIUtx"
      },
      "outputs": [],
      "source": [
        "state_dict = torch.load('/content/drive/MyDrive/pytorch/MY_MODEL.pth')"
      ]
    },
    {
      "cell_type": "code",
      "execution_count": null,
      "metadata": {
        "id": "bvoDmWWZKXvS"
      },
      "outputs": [],
      "source": [
        "model = models.alexnet(pretrained=True)\n"
      ]
    },
    {
      "cell_type": "code",
      "execution_count": null,
      "metadata": {
        "id": "wFWUEbpsZXKM"
      },
      "outputs": [],
      "source": [
        "dummy_input = torch.randn(10, 3, 224, 224)"
      ]
    },
    {
      "cell_type": "code",
      "execution_count": null,
      "metadata": {
        "id": "opRHiqMtZanH"
      },
      "outputs": [],
      "source": [
        "torch.onnx.export(model, dummy_input, \"MY_MODEL.onnx\", opset_version = 11)"
      ]
    },
    {
      "cell_type": "code",
      "execution_count": null,
      "metadata": {
        "id": "1_hrF_MAas3U"
      },
      "outputs": [],
      "source": [
        "!cp /content/MY_MODEL.onnx /content/drive/MyDrive/"
      ]
    },
    {
      "cell_type": "markdown",
      "metadata": {
        "id": "hI0tHC7zO21s"
      },
      "source": [
        "# Convert ONNX to TFLITE"
      ]
    },
    {
      "cell_type": "code",
      "execution_count": null,
      "metadata": {
        "id": "QWegXz_LdYvJ"
      },
      "outputs": [],
      "source": [
        "!pip install onnx"
      ]
    },
    {
      "cell_type": "code",
      "execution_count": null,
      "metadata": {
        "id": "WuSon_epeu1V"
      },
      "outputs": [],
      "source": [
        "import onnx\n",
        "from collections import OrderedDict\n",
        "import tensorflow as tf\n",
        "from torch.autograd import Variable"
      ]
    },
    {
      "cell_type": "code",
      "execution_count": null,
      "metadata": {
        "id": "KyTxYf9UfCPL"
      },
      "outputs": [],
      "source": [
        "!pip install onnx_tf"
      ]
    },
    {
      "cell_type": "code",
      "execution_count": null,
      "metadata": {
        "id": "VZdoxcn5fIDq"
      },
      "outputs": [],
      "source": [
        "from onnx_tf.backend import prepare"
      ]
    },
    {
      "cell_type": "code",
      "execution_count": null,
      "metadata": {
        "id": "UtkNSyvnfNv_"
      },
      "outputs": [],
      "source": [
        "model = onnx.load(\"/content/MY_MODEL.onnx\")\n"
      ]
    },
    {
      "cell_type": "code",
      "execution_count": null,
      "metadata": {
        "id": "agOxcn2LfaQs"
      },
      "outputs": [],
      "source": [
        "tf_rep = prepare(model)"
      ]
    },
    {
      "cell_type": "code",
      "execution_count": null,
      "metadata": {
        "id": "dQGjIrykfh6R"
      },
      "outputs": [],
      "source": [
        "print('inputs:', tf_rep.inputs)\n",
        "print('outputs:', tf_rep.outputs)\n",
        "print('tensor_dict:')\n",
        "print(tf_rep.tensor_dict)"
      ]
    },
    {
      "cell_type": "code",
      "execution_count": null,
      "metadata": {
        "id": "MisMwewofkZt"
      },
      "outputs": [],
      "source": [
        "tf_rep.export_graph(\"%s/mnist.pb\")"
      ]
    },
    {
      "cell_type": "code",
      "execution_count": null,
      "metadata": {
        "id": "T91rt1VrlC25"
      },
      "outputs": [],
      "source": [
        "converter = tf.lite.TFLiteConverter.from_saved_model(\"%s/mnist.pb\")"
      ]
    },
    {
      "cell_type": "code",
      "execution_count": null,
      "metadata": {
        "id": "lB94LXsDlRVm"
      },
      "outputs": [],
      "source": [
        "converter.optimizations = [tf.lite.Optimize.DEFAULT]"
      ]
    },
    {
      "cell_type": "code",
      "execution_count": null,
      "metadata": {
        "id": "2jQzy4E6lTBn"
      },
      "outputs": [],
      "source": [
        "tf_lite_model = converter.convert()"
      ]
    },
    {
      "cell_type": "code",
      "execution_count": null,
      "metadata": {
        "id": "MhX_AZLBlXev"
      },
      "outputs": [],
      "source": [
        "open('MY_MODEL.tflite', 'wb').write(tf_lite_model)"
      ]
    },
    {
      "cell_type": "code",
      "execution_count": null,
      "metadata": {
        "id": "OIfwctV73eSp"
      },
      "outputs": [],
      "source": [
        "!cp /content/MY_MODEL.tflite /content/drive/MyDrive/"
      ]
    }
  ],
  "metadata": {
    "accelerator": "GPU",
    "colab": {
      "collapsed_sections": [],
      "name": "gt_pytorch_to_onnx.ipynb",
      "provenance": [],
      "toc_visible": true
    },
    "kernelspec": {
      "display_name": "Python 3",
      "name": "python3"
    },
    "language_info": {
      "name": "python"
    }
  },
  "nbformat": 4,
  "nbformat_minor": 0
}
